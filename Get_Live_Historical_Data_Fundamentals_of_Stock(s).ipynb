{
  "nbformat": 4,
  "nbformat_minor": 0,
  "metadata": {
    "colab": {
      "provenance": [],
      "authorship_tag": "ABX9TyOrCIyr1OmffdMGCBS0zrS8",
      "include_colab_link": true
    },
    "kernelspec": {
      "name": "python3",
      "display_name": "Python 3"
    },
    "language_info": {
      "name": "python"
    }
  },
  "cells": [
    {
      "cell_type": "markdown",
      "metadata": {
        "id": "view-in-github",
        "colab_type": "text"
      },
      "source": [
        "<a href=\"https://colab.research.google.com/github/YigitBCesur/Finance-and-Trading/blob/main/Get_Live_Historical_Data_Fundamentals_of_Stock(s).ipynb\" target=\"_parent\"><img src=\"https://colab.research.google.com/assets/colab-badge.svg\" alt=\"Open In Colab\"/></a>"
      ]
    },
    {
      "cell_type": "markdown",
      "source": [
        "HOW TO GET LIVE STOCK DATA IN PYTHON\n",
        "\n",
        "--- Get Stock Information in Python ---"
      ],
      "metadata": {
        "id": "VCeYBLBj9VJb"
      }
    },
    {
      "cell_type": "code",
      "source": [
        "! pip install yfinance\n",
        "! pip install --upgrade pandas_datareader\n"
      ],
      "metadata": {
        "id": "po5Bi3EUE0cD",
        "colab": {
          "base_uri": "https://localhost:8080/"
        },
        "outputId": "bbf76263-5061-42cd-b084-50d677217675"
      },
      "execution_count": null,
      "outputs": [
        {
          "output_type": "stream",
          "name": "stdout",
          "text": [
            "Requirement already satisfied: yfinance in /usr/local/lib/python3.10/dist-packages (0.2.51)\n",
            "Requirement already satisfied: pandas>=1.3.0 in /usr/local/lib/python3.10/dist-packages (from yfinance) (2.2.2)\n",
            "Requirement already satisfied: numpy>=1.16.5 in /usr/local/lib/python3.10/dist-packages (from yfinance) (1.26.4)\n",
            "Requirement already satisfied: requests>=2.31 in /usr/local/lib/python3.10/dist-packages (from yfinance) (2.32.3)\n",
            "Requirement already satisfied: multitasking>=0.0.7 in /usr/local/lib/python3.10/dist-packages (from yfinance) (0.0.11)\n",
            "Requirement already satisfied: lxml>=4.9.1 in /usr/local/lib/python3.10/dist-packages (from yfinance) (5.3.0)\n",
            "Requirement already satisfied: platformdirs>=2.0.0 in /usr/local/lib/python3.10/dist-packages (from yfinance) (4.3.6)\n",
            "Requirement already satisfied: pytz>=2022.5 in /usr/local/lib/python3.10/dist-packages (from yfinance) (2024.2)\n",
            "Requirement already satisfied: frozendict>=2.3.4 in /usr/local/lib/python3.10/dist-packages (from yfinance) (2.4.6)\n",
            "Requirement already satisfied: peewee>=3.16.2 in /usr/local/lib/python3.10/dist-packages (from yfinance) (3.17.8)\n",
            "Requirement already satisfied: beautifulsoup4>=4.11.1 in /usr/local/lib/python3.10/dist-packages (from yfinance) (4.12.3)\n",
            "Requirement already satisfied: html5lib>=1.1 in /usr/local/lib/python3.10/dist-packages (from yfinance) (1.1)\n",
            "Requirement already satisfied: soupsieve>1.2 in /usr/local/lib/python3.10/dist-packages (from beautifulsoup4>=4.11.1->yfinance) (2.6)\n",
            "Requirement already satisfied: six>=1.9 in /usr/local/lib/python3.10/dist-packages (from html5lib>=1.1->yfinance) (1.17.0)\n",
            "Requirement already satisfied: webencodings in /usr/local/lib/python3.10/dist-packages (from html5lib>=1.1->yfinance) (0.5.1)\n",
            "Requirement already satisfied: python-dateutil>=2.8.2 in /usr/local/lib/python3.10/dist-packages (from pandas>=1.3.0->yfinance) (2.8.2)\n",
            "Requirement already satisfied: tzdata>=2022.7 in /usr/local/lib/python3.10/dist-packages (from pandas>=1.3.0->yfinance) (2024.2)\n",
            "Requirement already satisfied: charset-normalizer<4,>=2 in /usr/local/lib/python3.10/dist-packages (from requests>=2.31->yfinance) (3.4.1)\n",
            "Requirement already satisfied: idna<4,>=2.5 in /usr/local/lib/python3.10/dist-packages (from requests>=2.31->yfinance) (3.10)\n",
            "Requirement already satisfied: urllib3<3,>=1.21.1 in /usr/local/lib/python3.10/dist-packages (from requests>=2.31->yfinance) (1.26.20)\n",
            "Requirement already satisfied: certifi>=2017.4.17 in /usr/local/lib/python3.10/dist-packages (from requests>=2.31->yfinance) (2024.12.14)\n"
          ]
        }
      ]
    },
    {
      "cell_type": "code",
      "execution_count": null,
      "metadata": {
        "id": "E89lhF1-8BeN"
      },
      "outputs": [],
      "source": [
        "from yahoo_fin.stock_info import *\n",
        "import pandas as pd\n",
        "import yfinance as yf"
      ]
    },
    {
      "cell_type": "markdown",
      "source": [
        "### **Get Live Stock Price**"
      ],
      "metadata": {
        "id": "kkmS2ma__Qep"
      }
    },
    {
      "cell_type": "markdown",
      "source": [
        "[FMP](https://site.financialmodelingprep.com/playground)"
      ],
      "metadata": {
        "id": "vvYElQsazICG"
      }
    },
    {
      "cell_type": "code",
      "execution_count": null,
      "metadata": {
        "id": "yk1lJAhnvlcu"
      },
      "outputs": [],
      "source": [
        "import requests\n",
        "import pandas as pd\n",
        "\n",
        "def get_stock_quote(symbol):\n",
        "    \"\"\"\n",
        "    Get real-time stock data for a given symbol using a free API.\n",
        "\n",
        "    Parameters:\n",
        "        symbol (str): Stock symbol (e.g., \"PLTR\").\n",
        "\n",
        "    Returns:\n",
        "        dict: Real-time stock quote data.\n",
        "    \"\"\"\n",
        "    try:\n",
        "        # Example API URL - Replace with your own provider\n",
        "        base_url = f\"https://financialmodelingprep.com/api/v3/quote/{symbol}\"\n",
        "        api_key = \"API KEY\"  # Replace with your API key\n",
        "\n",
        "        # Make API request\n",
        "        response = requests.get(f\"{base_url}?apikey={api_key}\")\n",
        "        response.raise_for_status()  # Raise an error for HTTP issues\n",
        "\n",
        "        data = response.json()\n",
        "\n",
        "        if not data:\n",
        "            return {\"error\": \"No data found for the given symbol.\"}\n",
        "\n",
        "        return data[0]  # Return the first result\n",
        "    except requests.exceptions.RequestException as e:\n",
        "        return {\"error\": str(e)}\n",
        "\n",
        "# Example Usage\n",
        "symbol = \"PLTR\"\n",
        "quote_data = get_stock_quote(symbol)\n",
        "\n",
        "if \"error\" in quote_data:\n",
        "    print(f\"Error fetching data: {quote_data['error']}\")\n",
        "else:\n",
        "    print(f\"Real-Time Data for {symbol}:\")\n",
        "    print(quote_data)\n"
      ]
    },
    {
      "cell_type": "code",
      "source": [
        "import requests\n",
        "import pandas as pd\n",
        "\n",
        "def get_stock_quote_as_dataframe(symbol):\n",
        "    \"\"\"\n",
        "    Get real-time stock data for a given symbol and return it as a DataFrame.\n",
        "\n",
        "    Parameters:\n",
        "        symbol (str): Stock symbol (e.g., \"PLTR\").\n",
        "\n",
        "    Returns:\n",
        "        DataFrame: Real-time stock data as a pandas DataFrame.\n",
        "    \"\"\"\n",
        "    try:\n",
        "        # Example API URL - Replace with your provider\n",
        "        base_url = f\"https://financialmodelingprep.com/api/v3/quote/{symbol}\"\n",
        "        api_key = \"API_KEY\"  # Replace with your API key\n",
        "\n",
        "        # Make API request\n",
        "        response = requests.get(f\"{base_url}?apikey={api_key}\")\n",
        "        response.raise_for_status()  # Raise error for HTTP issues\n",
        "\n",
        "        data = response.json()\n",
        "\n",
        "        if not data:\n",
        "            print(\"No data found for the given symbol.\")\n",
        "            return pd.DataFrame()  # Return an empty DataFrame\n",
        "\n",
        "        # Convert to DataFrame\n",
        "        return pd.DataFrame(data)\n",
        "    except requests.exceptions.RequestException as e:\n",
        "        print(f\"Error fetching data: {str(e)}\")\n",
        "        return pd.DataFrame()  # Return an empty DataFrame\n",
        "\n",
        "# Example Usage\n",
        "symbol = \"PLTR\"\n",
        "real_time_data = get_stock_quote_as_dataframe(symbol)\n",
        "print(\"Real-Time Data:\")\n",
        "print(real_time_data)\n",
        "pd.DataFrame(real_time_data).T"
      ],
      "metadata": {
        "id": "9I2xEBpuwpQZ"
      },
      "execution_count": null,
      "outputs": []
    },
    {
      "cell_type": "code",
      "source": [
        "def get_historical_data_as_dataframe(symbol, start_date, end_date):\n",
        "    \"\"\"\n",
        "    Fetch historical stock data for a given symbol and return it as a DataFrame.\n",
        "\n",
        "    Parameters:\n",
        "        symbol (str): Stock symbol (e.g., \"PLTR\").\n",
        "        start_date (str): Start date in 'YYYY-MM-DD' format.\n",
        "        end_date (str): End date in 'YYYY-MM-DD' format.\n",
        "\n",
        "    Returns:\n",
        "        DataFrame: Historical stock data as a pandas DataFrame.\n",
        "    \"\"\"\n",
        "    try:\n",
        "        base_url = f\"https://financialmodelingprep.com/api/v3/historical-price-full/{symbol}\"\n",
        "        api_key = \"API_KEY\"  # Replace with your API key\n",
        "\n",
        "        response = requests.get(f\"{base_url}?from={start_date}&to={end_date}&apikey={api_key}\")\n",
        "        response.raise_for_status()\n",
        "\n",
        "        data = response.json()\n",
        "\n",
        "        if \"historical\" not in data:\n",
        "            print(\"No historical data found for the given symbol.\")\n",
        "            return pd.DataFrame()  # Return an empty DataFrame\n",
        "\n",
        "        # Convert historical data to DataFrame\n",
        "        return pd.DataFrame(data[\"historical\"])\n",
        "    except requests.exceptions.RequestException as e:\n",
        "        print(f\"Error fetching historical data: {str(e)}\")\n",
        "        return pd.DataFrame()  # Return an empty DataFrame\n",
        "\n",
        "# Example Usage\n",
        "historical_data = get_historical_data_as_dataframe(\"PLTR\", \"2023-01-01\", \"2023-12-31\")\n",
        "print(\"Historical Data:\")\n",
        "print(historical_data)\n",
        "pd.DataFrame(historical_data)"
      ],
      "metadata": {
        "id": "QyuoH4fWw1FR"
      },
      "execution_count": null,
      "outputs": []
    },
    {
      "cell_type": "markdown",
      "source": [
        "### **Companies' Tickers SP 500**"
      ],
      "metadata": {
        "id": "_fS1eyre-oEA"
      }
    },
    {
      "cell_type": "code",
      "source": [
        "print(tickers_sp500())"
      ],
      "metadata": {
        "id": "Ybf5IeSh9nHB"
      },
      "execution_count": null,
      "outputs": []
    },
    {
      "cell_type": "code",
      "source": [
        "stock = input (\"Please enter a ticker symbol  : \")\n",
        "\n",
        "if stock in tickers_sp500():\n",
        "  print ('The Stock is in the SP500 ')\n",
        "else:\n",
        "  print(' not in the SP500 ')"
      ],
      "metadata": {
        "id": "LHoHQsCd-mdA"
      },
      "execution_count": null,
      "outputs": []
    },
    {
      "cell_type": "markdown",
      "source": [
        "### **Importing Stock Prices from Yahoo Finance**"
      ],
      "metadata": {
        "id": "JB9ypXiOElWE"
      }
    },
    {
      "cell_type": "code",
      "source": [
        "import yfinance as yf"
      ],
      "metadata": {
        "id": "bOG5adYlB3-w"
      },
      "execution_count": null,
      "outputs": []
    },
    {
      "cell_type": "markdown",
      "source": [
        "**Just One Stock**"
      ],
      "metadata": {
        "id": "9xut5A_IIfGX"
      }
    },
    {
      "cell_type": "code",
      "source": [
        "ticker= 'PLTR'\n",
        "#PLTR = yf.download(ticker)\n",
        "#PLTR = yf.download(ticker, start= '2021-01-01', end='2022-11-11', rounding=True)    # Adding dates\n",
        "#PLTR = yf.download(ticker, start= '2021-01-01', end='2022-11-11', rounding=True)[\"Adj Close\"]    # Select the column\n",
        "PLTR = yf.download(ticker, start= '2021-01-01', end='2022-11-11', rounding=True)[[\"Close\", 'Volume']]    # Select the columns\n",
        "\n"
      ],
      "metadata": {
        "id": "hRz5KkDuFZEt"
      },
      "execution_count": null,
      "outputs": []
    },
    {
      "cell_type": "code",
      "source": [
        "PLTR"
      ],
      "metadata": {
        "id": "O8mGbd61GGVM"
      },
      "execution_count": null,
      "outputs": []
    },
    {
      "cell_type": "markdown",
      "source": [
        "**Several Stocks**"
      ],
      "metadata": {
        "id": "ydXJGGbHIkvV"
      }
    },
    {
      "cell_type": "code",
      "source": [
        "tickers= ['PLTR', 'QS', 'APRE', 'NIO']\n",
        "#Stocks = yf.download(tickers)\n",
        "Stocks = yf.download(tickers, start= '2021-01-01', end='2022-11-11', rounding=True)[\"Close\"]\n",
        "#Stocks = yf.download(tickers, start= '2021-01-01', end='2022-11-11', rounding=True)[\"Adj Close\"].T      # Transpose\n",
        "Stocks"
      ],
      "metadata": {
        "id": "Nydh8kBXInv0"
      },
      "execution_count": null,
      "outputs": []
    },
    {
      "cell_type": "markdown",
      "source": [
        "### HISTORY on TICKER with **(+plus)** Dividends - Stock SplitsThe yfinance\n",
        "\n",
        "TICKER object\n",
        "\n",
        "1- start and end dates\n",
        "\n",
        "2- period instead of start/end\n",
        "\n",
        "3- valid periods: 1d, 5d, Imo, 3mo, 6mo, Ty, 2y, Sy, 1Oy, ytd,max\n",
        "\n",
        "4- valid intervals: Im, 2m, 5m, 15m, 30m, 6Om, 9Om, th, 1d, Sd, 1wk, 1mo, 3mo.\n",
        "\n",
        "5- actions = True: Includes info on both dividends and splits. (Optional default is False)\n",
        "\n",
        "6- prepost = True: download pre/post regular market hours data. (Optional default is False) ( FALSE= Market Hours , TRUE = PreMarket, Market , Post-Market Hours  )\n"
      ],
      "metadata": {
        "id": "T8VqQSMuVkvh"
      }
    },
    {
      "cell_type": "markdown",
      "source": [
        "### **One Stock **"
      ],
      "metadata": {
        "id": "uvhhch0hh4y1"
      }
    },
    {
      "cell_type": "code",
      "source": [
        "symbol= 'AAPL'\n",
        "ticker = yf.Ticker(symbol)                               # Aware of First Big Letter"
      ],
      "metadata": {
        "id": "29hhPmcJXNve"
      },
      "execution_count": null,
      "outputs": []
    },
    {
      "cell_type": "markdown",
      "source": [
        "**1- start and end dates**"
      ],
      "metadata": {
        "id": "O6lnARLQefA0"
      }
    },
    {
      "cell_type": "code",
      "source": [
        "df = ticker.history ( start='2019-01-01' , end='2020-12-31', rounding=True)\n",
        "df"
      ],
      "metadata": {
        "id": "v7HbbYnUaDpp"
      },
      "execution_count": null,
      "outputs": []
    },
    {
      "cell_type": "markdown",
      "source": [
        "**2- period instead of start/end**"
      ],
      "metadata": {
        "id": "kn3KvXfleZ40"
      }
    },
    {
      "cell_type": "code",
      "source": [
        "df = ticker.history ( period='max', rounding=True , actions=False , interval='1m')                       # 1 MINUTE interval\n",
        "df"
      ],
      "metadata": {
        "id": "uGmIhLo1azFR"
      },
      "execution_count": null,
      "outputs": []
    },
    {
      "cell_type": "code",
      "source": [
        "df = ticker.history ( period='5d', rounding=True , actions=False , interval='1m', prepost=False)                       # Prepost - False ( just market hours)    True( Pre- Market-Post hours 5am-7 pm )\n",
        "df"
      ],
      "metadata": {
        "id": "hEYi2xqedWPc"
      },
      "execution_count": null,
      "outputs": []
    },
    {
      "cell_type": "code",
      "source": [
        "df.info()"
      ],
      "metadata": {
        "id": "84TESwC-gxRP"
      },
      "execution_count": null,
      "outputs": []
    },
    {
      "cell_type": "markdown",
      "source": [
        "Crypto Currencies has no closing , Prepost = True"
      ],
      "metadata": {
        "id": "brefRZ4mhiPi"
      }
    },
    {
      "cell_type": "markdown",
      "source": [
        "### **Multiple Stocks **"
      ],
      "metadata": {
        "id": "pVDayIxWiF94"
      }
    },
    {
      "cell_type": "code",
      "source": [
        "symbols= 'AAPL GM GOOG'                         # ' x y z '\n",
        "tickers = yf.Tickers(symbols)                   #  Tickers()"
      ],
      "metadata": {
        "id": "X7IuEP91iR8F"
      },
      "execution_count": null,
      "outputs": []
    },
    {
      "cell_type": "code",
      "source": [
        "df = tickers.history ( start='2020-12-31', rounding=True , interval='1d', actions=False )\n",
        "df"
      ],
      "metadata": {
        "id": "6eKqPa7qjIlO"
      },
      "execution_count": null,
      "outputs": []
    },
    {
      "cell_type": "markdown",
      "source": [
        "**In complex data , lets select the columns we want to work on**"
      ],
      "metadata": {
        "id": "Uqd_4Zlskxsl"
      }
    },
    {
      "cell_type": "code",
      "source": [
        "idx = pd.IndexSlice\n",
        "df.loc[:, idx['Close', ['AAPL', 'GM']]]        # All rows, Then 'Close' column ,then 'AAPL and GM' columns in 'CLose '\n"
      ],
      "metadata": {
        "id": "ta4AnYllmUlh"
      },
      "execution_count": null,
      "outputs": []
    },
    {
      "cell_type": "code",
      "source": [
        "# HOW TO GROUP BY    #  ( group_by parameters )\n",
        "\n",
        "df = tickers.history ( start='2020-12-31', rounding=True , interval='1d', actions=False , group_by='tickers' )\n",
        "df"
      ],
      "metadata": {
        "id": "GTH5-wOwrb4X"
      },
      "execution_count": null,
      "outputs": []
    },
    {
      "cell_type": "markdown",
      "source": [
        "## **How to download the FUNDAMENTAL DATA of Stock(s)**"
      ],
      "metadata": {
        "id": "M7vjcFcEr7mQ"
      }
    },
    {
      "cell_type": "code",
      "source": [
        "symbol= 'AAPL'\n",
        "ticker = yf.Ticker(symbol)"
      ],
      "metadata": {
        "id": "wJ2FWrQCsCmB"
      },
      "execution_count": null,
      "outputs": []
    },
    {
      "cell_type": "code",
      "source": [
        "ticker.info"
      ],
      "metadata": {
        "id": "fgDIjjWpsXw7"
      },
      "execution_count": null,
      "outputs": []
    },
    {
      "cell_type": "code",
      "source": [
        "ticker.info.keys()"
      ],
      "metadata": {
        "id": "5X1IKvFssmFH"
      },
      "execution_count": null,
      "outputs": []
    },
    {
      "cell_type": "code",
      "source": [
        "pd.Series(ticker.info)"
      ],
      "metadata": {
        "id": "Pkz3w7W2suJN"
      },
      "execution_count": null,
      "outputs": []
    },
    {
      "cell_type": "code",
      "source": [
        "ticker.info['lastDividendValue']                    # Info in Info"
      ],
      "metadata": {
        "id": "BlBvGRvZtHdk"
      },
      "execution_count": null,
      "outputs": []
    },
    {
      "cell_type": "code",
      "source": [
        "data=ticker.history(period='5y')\n",
        "data"
      ],
      "metadata": {
        "id": "Wqp3wm0-tik7"
      },
      "execution_count": null,
      "outputs": []
    },
    {
      "cell_type": "code",
      "source": [
        "ticker.actions"
      ],
      "metadata": {
        "id": "N-Y2VP5at7nB"
      },
      "execution_count": null,
      "outputs": []
    },
    {
      "cell_type": "code",
      "source": [
        "ticker.dividends"
      ],
      "metadata": {
        "id": "bzqLS_3AuCx0"
      },
      "execution_count": null,
      "outputs": []
    },
    {
      "cell_type": "code",
      "source": [
        "#ticker.earnings\n",
        "ticker.quarterly_earnings"
      ],
      "metadata": {
        "id": "aiPna3MKuIGf"
      },
      "execution_count": null,
      "outputs": []
    },
    {
      "cell_type": "code",
      "source": [
        "ticker.splits"
      ],
      "metadata": {
        "id": "1sV2RFKiuLCM"
      },
      "execution_count": null,
      "outputs": []
    },
    {
      "cell_type": "code",
      "source": [
        "ticker.quarterly_financials\n",
        "#ticker.financials"
      ],
      "metadata": {
        "id": "anOXPR38ukpW"
      },
      "execution_count": null,
      "outputs": []
    },
    {
      "cell_type": "code",
      "source": [
        "ticker.balance_sheet\n",
        "#ticker.quarterly_balance_sheet"
      ],
      "metadata": {
        "id": "fXKy5oPyvWzL"
      },
      "execution_count": null,
      "outputs": []
    },
    {
      "cell_type": "code",
      "source": [
        "ticker.cashflow"
      ],
      "metadata": {
        "id": "9AYKdmuAvmWZ"
      },
      "execution_count": null,
      "outputs": []
    },
    {
      "cell_type": "code",
      "source": [
        "ticker.sustainability"
      ],
      "metadata": {
        "id": "65ZMtlsDvvV7"
      },
      "execution_count": null,
      "outputs": []
    },
    {
      "cell_type": "code",
      "source": [
        "ticker.recommendations"
      ],
      "metadata": {
        "id": "GOPVlrevvzRe"
      },
      "execution_count": null,
      "outputs": []
    },
    {
      "cell_type": "code",
      "source": [
        "ticker.calendar"
      ],
      "metadata": {
        "id": "E4Gcj-8cv6SG"
      },
      "execution_count": null,
      "outputs": []
    },
    {
      "cell_type": "markdown",
      "source": [
        "## **Option Data**"
      ],
      "metadata": {
        "id": "i9vHpSVpv_P3"
      }
    },
    {
      "cell_type": "code",
      "source": [
        "ticker.options     # calling"
      ],
      "metadata": {
        "id": "b30spTrGwHKf"
      },
      "execution_count": null,
      "outputs": []
    },
    {
      "cell_type": "code",
      "source": [
        "# Expiration date in Calling Options\n",
        "\n",
        "expiration_date= ticker.options[0]\n",
        "expiration_date"
      ],
      "metadata": {
        "id": "u09EVHPLwiwZ"
      },
      "execution_count": null,
      "outputs": []
    },
    {
      "cell_type": "code",
      "source": [
        "from requests.api import options\n",
        "options= ticker.option_chain(expiration_date)"
      ],
      "metadata": {
        "id": "pTkCbBwYxF87"
      },
      "execution_count": null,
      "outputs": []
    },
    {
      "cell_type": "code",
      "source": [
        "options.calls"
      ],
      "metadata": {
        "id": "3LwlecOdxVKQ"
      },
      "execution_count": null,
      "outputs": []
    },
    {
      "cell_type": "code",
      "source": [
        "options.calls.info()"
      ],
      "metadata": {
        "id": "BE6MrsqpxlMS"
      },
      "execution_count": null,
      "outputs": []
    },
    {
      "cell_type": "code",
      "source": [
        "options.puts"
      ],
      "metadata": {
        "id": "qiOZbRY8xuXt"
      },
      "execution_count": null,
      "outputs": []
    },
    {
      "cell_type": "code",
      "source": [],
      "metadata": {
        "id": "uWzjTkVq3tI1"
      },
      "execution_count": null,
      "outputs": []
    }
  ]
}